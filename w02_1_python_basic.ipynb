{
  "nbformat": 4,
  "nbformat_minor": 0,
  "metadata": {
    "colab": {
      "provenance": [],
      "authorship_tag": "ABX9TyMGQ00ykva16QTyIFnPvoVA",
      "include_colab_link": true
    },
    "kernelspec": {
      "name": "python3",
      "display_name": "Python 3"
    },
    "language_info": {
      "name": "python"
    }
  },
  "cells": [
    {
      "cell_type": "markdown",
      "metadata": {
        "id": "view-in-github",
        "colab_type": "text"
      },
      "source": [
        "<a href=\"https://colab.research.google.com/github/pcw11/2024-intro-DA-code/blob/main/w02_1_python_basic.ipynb\" target=\"_parent\"><img src=\"https://colab.research.google.com/assets/colab-badge.svg\" alt=\"Open In Colab\"/></a>"
      ]
    },
    {
      "cell_type": "markdown",
      "source": [
        "### 파이썬 언어 기촌\n",
        "## 상수와 변수"
      ],
      "metadata": {
        "id": "UKcdkVnZ_Gyq"
      }
    },
    {
      "cell_type": "code",
      "execution_count": 12,
      "metadata": {
        "id": "QOZ0hp8X-xDB"
      },
      "outputs": [],
      "source": [
        "# comments"
      ]
    },
    {
      "cell_type": "code",
      "source": [
        "3.4 # numeric literals"
      ],
      "metadata": {
        "colab": {
          "base_uri": "https://localhost:8080/"
        },
        "id": "rclS8x8Z_WEt",
        "outputId": "05c73a0a-d3bb-413f-d217-3911f4395c1e"
      },
      "execution_count": 13,
      "outputs": [
        {
          "output_type": "execute_result",
          "data": {
            "text/plain": [
              "3.4"
            ]
          },
          "metadata": {},
          "execution_count": 13
        }
      ]
    },
    {
      "cell_type": "code",
      "source": [
        "7L"
      ],
      "metadata": {
        "colab": {
          "base_uri": "https://localhost:8080/",
          "height": 106
        },
        "id": "7IA8fvtA_a6f",
        "outputId": "130f75a1-e4bc-42cd-f171-2d1cf7e1e455"
      },
      "execution_count": 14,
      "outputs": [
        {
          "output_type": "error",
          "ename": "SyntaxError",
          "evalue": "invalid decimal literal (<ipython-input-14-768ed451f8b0>, line 1)",
          "traceback": [
            "\u001b[0;36m  File \u001b[0;32m\"<ipython-input-14-768ed451f8b0>\"\u001b[0;36m, line \u001b[0;32m1\u001b[0m\n\u001b[0;31m    7L\u001b[0m\n\u001b[0m    ^\u001b[0m\n\u001b[0;31mSyntaxError\u001b[0m\u001b[0;31m:\u001b[0m invalid decimal literal\n"
          ]
        }
      ]
    },
    {
      "cell_type": "code",
      "source": [
        "-5 4.5"
      ],
      "metadata": {
        "colab": {
          "base_uri": "https://localhost:8080/",
          "height": 106
        },
        "id": "jV7lu4--_oWL",
        "outputId": "57f8ed81-54a1-4247-af7c-020f6e9e40c4"
      },
      "execution_count": 16,
      "outputs": [
        {
          "output_type": "error",
          "ename": "SyntaxError",
          "evalue": "invalid syntax (<ipython-input-16-4e8c55c1b341>, line 1)",
          "traceback": [
            "\u001b[0;36m  File \u001b[0;32m\"<ipython-input-16-4e8c55c1b341>\"\u001b[0;36m, line \u001b[0;32m1\u001b[0m\n\u001b[0;31m    -5 4.5\u001b[0m\n\u001b[0m       ^\u001b[0m\n\u001b[0;31mSyntaxError\u001b[0m\u001b[0;31m:\u001b[0m invalid syntax\n"
          ]
        }
      ]
    },
    {
      "cell_type": "code",
      "source": [
        "10, -3"
      ],
      "metadata": {
        "colab": {
          "base_uri": "https://localhost:8080/"
        },
        "id": "1LClh071_sfX",
        "outputId": "ce7db582-83bb-4eb9-d453-13ab6365d733"
      },
      "execution_count": 15,
      "outputs": [
        {
          "output_type": "execute_result",
          "data": {
            "text/plain": [
              "(10, -3)"
            ]
          },
          "metadata": {},
          "execution_count": 15
        }
      ]
    },
    {
      "cell_type": "code",
      "source": [
        "# variable\n",
        "a = 3 # assign value to variable a\n",
        "a"
      ],
      "metadata": {
        "id": "vHyajxyP_up_"
      },
      "execution_count": null,
      "outputs": []
    },
    {
      "cell_type": "code",
      "source": [
        "m,n = 10, 20\n",
        "print(m,n)"
      ],
      "metadata": {
        "id": "qp7BHMjsAJGG"
      },
      "execution_count": null,
      "outputs": []
    },
    {
      "cell_type": "code",
      "source": [
        "# var name\n",
        "age = 19\n",
        "age"
      ],
      "metadata": {
        "colab": {
          "base_uri": "https://localhost:8080/"
        },
        "id": "8sO9CwXQAQSA",
        "outputId": "ae30b085-72b8-482d-c0d9-da85a82bbd91"
      },
      "execution_count": 18,
      "outputs": [
        {
          "output_type": "execute_result",
          "data": {
            "text/plain": [
              "19"
            ]
          },
          "metadata": {},
          "execution_count": 18
        }
      ]
    },
    {
      "cell_type": "code",
      "source": [
        "my_age = 20\n",
        "my_age\n"
      ],
      "metadata": {
        "colab": {
          "base_uri": "https://localhost:8080/"
        },
        "id": "kRFkQVsQDbbX",
        "outputId": "2893f4e6-4413-475c-f2e9-8d5c7c4eedb7"
      },
      "execution_count": 19,
      "outputs": [
        {
          "output_type": "execute_result",
          "data": {
            "text/plain": [
              "20"
            ]
          },
          "metadata": {},
          "execution_count": 19
        }
      ]
    },
    {
      "cell_type": "code",
      "source": [
        "_height = 172.3\n",
        "_height"
      ],
      "metadata": {
        "colab": {
          "base_uri": "https://localhost:8080/"
        },
        "id": "nBHfX1nIDd6_",
        "outputId": "19623352-80b2-49da-8acc-ab4421a5fc50"
      },
      "execution_count": 20,
      "outputs": [
        {
          "output_type": "execute_result",
          "data": {
            "text/plain": [
              "172.3"
            ]
          },
          "metadata": {},
          "execution_count": 20
        }
      ]
    },
    {
      "cell_type": "code",
      "source": [
        "_26asian = 2026 # 첫 _이후에 바로 숫자 사용 가능\n",
        "_26asian"
      ],
      "metadata": {
        "colab": {
          "base_uri": "https://localhost:8080/"
        },
        "id": "XRSqwqAdApmP",
        "outputId": "8170fa0e-dbfd-461f-8bcf-9902b4101ca9"
      },
      "execution_count": 39,
      "outputs": [
        {
          "output_type": "execute_result",
          "data": {
            "text/plain": [
              "2026"
            ]
          },
          "metadata": {},
          "execution_count": 39
        }
      ]
    },
    {
      "cell_type": "code",
      "source": [
        "# 잘못된 변수\n",
        "26worldcup = 2026 # 수가 맨 먼저 위치하면 에러\n"
      ],
      "metadata": {
        "colab": {
          "base_uri": "https://localhost:8080/",
          "height": 106
        },
        "id": "RFpJjNCAA0sn",
        "outputId": "4144cc9c-b7a0-4283-f95f-aaaac488563a"
      },
      "execution_count": 37,
      "outputs": [
        {
          "output_type": "error",
          "ename": "SyntaxError",
          "evalue": "invalid decimal literal (<ipython-input-37-428d4704b5ab>, line 2)",
          "traceback": [
            "\u001b[0;36m  File \u001b[0;32m\"<ipython-input-37-428d4704b5ab>\"\u001b[0;36m, line \u001b[0;32m2\u001b[0m\n\u001b[0;31m    26worldcup = 2026 # 수가 맨 먼저 위치하면 에러\u001b[0m\n\u001b[0m     ^\u001b[0m\n\u001b[0;31mSyntaxError\u001b[0m\u001b[0;31m:\u001b[0m invalid decimal literal\n"
          ]
        }
      ]
    },
    {
      "cell_type": "code",
      "source": [
        "my .age =21 # .은 사용하면 에러"
      ],
      "metadata": {
        "colab": {
          "base_uri": "https://localhost:8080/",
          "height": 141
        },
        "id": "khU3xEIjBTCp",
        "outputId": "f0297cfb-ac02-4421-a78f-5d8d3da8d8c0"
      },
      "execution_count": 38,
      "outputs": [
        {
          "output_type": "error",
          "ename": "NameError",
          "evalue": "name 'my' is not defined",
          "traceback": [
            "\u001b[0;31m---------------------------------------------------------------------------\u001b[0m",
            "\u001b[0;31mNameError\u001b[0m                                 Traceback (most recent call last)",
            "\u001b[0;32m<ipython-input-38-c2db4711bab6>\u001b[0m in \u001b[0;36m<cell line: 1>\u001b[0;34m()\u001b[0m\n\u001b[0;32m----> 1\u001b[0;31m \u001b[0mmy\u001b[0m \u001b[0;34m.\u001b[0m\u001b[0mage\u001b[0m \u001b[0;34m=\u001b[0m\u001b[0;36m21\u001b[0m \u001b[0;31m# .은 사용하면 에러\u001b[0m\u001b[0;34m\u001b[0m\u001b[0;34m\u001b[0m\u001b[0m\n\u001b[0m",
            "\u001b[0;31mNameError\u001b[0m: name 'my' is not defined"
          ]
        }
      ]
    },
    {
      "cell_type": "code",
      "source": [
        "my credits = 18 # 공백 문자 등 다른 문자 사용하면 에러"
      ],
      "metadata": {
        "colab": {
          "base_uri": "https://localhost:8080/",
          "height": 106
        },
        "id": "T4fyJjarBaYw",
        "outputId": "70190289-cf65-4958-c3cb-828885ea1acc"
      },
      "execution_count": 40,
      "outputs": [
        {
          "output_type": "error",
          "ename": "SyntaxError",
          "evalue": "invalid syntax (<ipython-input-40-993ee0074075>, line 1)",
          "traceback": [
            "\u001b[0;36m  File \u001b[0;32m\"<ipython-input-40-993ee0074075>\"\u001b[0;36m, line \u001b[0;32m1\u001b[0m\n\u001b[0;31m    my credits = 18 # 공백 문자 등 다른 문자 사용하면 에러\u001b[0m\n\u001b[0m       ^\u001b[0m\n\u001b[0;31mSyntaxError\u001b[0m\u001b[0;31m:\u001b[0m invalid syntax\n"
          ]
        }
      ]
    },
    {
      "cell_type": "markdown",
      "source": [
        "### R 기본 자료형"
      ],
      "metadata": {
        "id": "rME7An4CBpzS"
      }
    },
    {
      "cell_type": "code",
      "source": [
        "# int\n",
        "a =10\n",
        "print(a)"
      ],
      "metadata": {
        "colab": {
          "base_uri": "https://localhost:8080/"
        },
        "id": "U26_PoIlBjdX",
        "outputId": "907fcce6-46e4-43bd-ea37-8b44f84eb190"
      },
      "execution_count": 41,
      "outputs": [
        {
          "output_type": "stream",
          "name": "stdout",
          "text": [
            "10\n"
          ]
        }
      ]
    },
    {
      "cell_type": "code",
      "source": [
        "type(a)"
      ],
      "metadata": {
        "colab": {
          "base_uri": "https://localhost:8080/"
        },
        "id": "jGRySLrGBvjr",
        "outputId": "a2279d4a-13e7-4594-c539-d766ea0c1d6b"
      },
      "execution_count": 42,
      "outputs": [
        {
          "output_type": "execute_result",
          "data": {
            "text/plain": [
              "int"
            ]
          },
          "metadata": {},
          "execution_count": 42
        }
      ]
    },
    {
      "cell_type": "code",
      "source": [
        "from re import X\n",
        "# float\n",
        "x = 2.718\n",
        "print(X)\n",
        "\n",
        "type(x)"
      ],
      "metadata": {
        "colab": {
          "base_uri": "https://localhost:8080/"
        },
        "id": "CJDJAvdHBzf3",
        "outputId": "a9d4c0b9-f0ec-42f6-bc3f-828842fd176a"
      },
      "execution_count": 43,
      "outputs": [
        {
          "output_type": "stream",
          "name": "stdout",
          "text": [
            "re.VERBOSE\n"
          ]
        },
        {
          "output_type": "execute_result",
          "data": {
            "text/plain": [
              "float"
            ]
          },
          "metadata": {},
          "execution_count": 43
        }
      ]
    },
    {
      "cell_type": "code",
      "source": [
        "# complex\n",
        "c = 3 - 4j\n",
        "print(c)\n",
        "\n",
        "type(c)"
      ],
      "metadata": {
        "colab": {
          "base_uri": "https://localhost:8080/"
        },
        "id": "LPEo0_q6B-qI",
        "outputId": "ed8f6f0d-a07b-4c42-986e-0c685149b10d"
      },
      "execution_count": 44,
      "outputs": [
        {
          "output_type": "stream",
          "name": "stdout",
          "text": [
            "(3-4j)\n"
          ]
        },
        {
          "output_type": "execute_result",
          "data": {
            "text/plain": [
              "complex"
            ]
          },
          "metadata": {},
          "execution_count": 44
        }
      ]
    },
    {
      "cell_type": "code",
      "source": [
        "# string\n",
        "s = \"VS code\"\n",
        "print(s)\n",
        "\n",
        "type(s)"
      ],
      "metadata": {
        "colab": {
          "base_uri": "https://localhost:8080/"
        },
        "id": "D4TPiB5fCIV-",
        "outputId": "a6af334b-f9af-44f6-af31-7b80fc7e7494"
      },
      "execution_count": 23,
      "outputs": [
        {
          "output_type": "stream",
          "name": "stdout",
          "text": [
            "VS code\n"
          ]
        },
        {
          "output_type": "execute_result",
          "data": {
            "text/plain": [
              "str"
            ]
          },
          "metadata": {},
          "execution_count": 23
        }
      ]
    },
    {
      "cell_type": "markdown",
      "source": [
        "### 날짜 자료형"
      ],
      "metadata": {
        "id": "DmiRgYsGCRaX"
      }
    },
    {
      "cell_type": "code",
      "source": [
        "import datetime as dt\n",
        "c = dt.datetime.now()\n",
        "print(c.year, c.month, c.day)\n",
        "\n",
        "type(c)"
      ],
      "metadata": {
        "colab": {
          "base_uri": "https://localhost:8080/"
        },
        "id": "4sHiWfaNCVlp",
        "outputId": "bffbc797-b3f9-4899-b290-5f5db7a90fa0"
      },
      "execution_count": 24,
      "outputs": [
        {
          "output_type": "stream",
          "name": "stdout",
          "text": [
            "2024 9 15\n"
          ]
        },
        {
          "output_type": "execute_result",
          "data": {
            "text/plain": [
              "datetime.datetime"
            ]
          },
          "metadata": {},
          "execution_count": 24
        }
      ]
    },
    {
      "cell_type": "code",
      "source": [
        "import datetime as dt\n",
        "d = dt.datetime(2026, 3, 1)\n",
        "print(d, '요일:', d.weekday())"
      ],
      "metadata": {
        "colab": {
          "base_uri": "https://localhost:8080/"
        },
        "id": "BB4sKHXrCovY",
        "outputId": "13cc13aa-b7d9-4f12-e681-a777e2592fc2"
      },
      "execution_count": 25,
      "outputs": [
        {
          "output_type": "stream",
          "name": "stdout",
          "text": [
            "2026-03-01 00:00:00 요일: 6\n"
          ]
        }
      ]
    },
    {
      "cell_type": "markdown",
      "source": [
        "### 다양한 연산자"
      ],
      "metadata": {
        "id": "TUwY04_mDB3m"
      }
    },
    {
      "cell_type": "code",
      "source": [
        "10 + 4.3"
      ],
      "metadata": {
        "colab": {
          "base_uri": "https://localhost:8080/"
        },
        "id": "kqxb2HdbDFR4",
        "outputId": "e96194c5-6358-4f2d-c17c-2c82748a8c29"
      },
      "execution_count": 27,
      "outputs": [
        {
          "output_type": "execute_result",
          "data": {
            "text/plain": [
              "14.3"
            ]
          },
          "metadata": {},
          "execution_count": 27
        }
      ]
    },
    {
      "cell_type": "code",
      "source": [
        "5.4 -1.2"
      ],
      "metadata": {
        "colab": {
          "base_uri": "https://localhost:8080/"
        },
        "id": "RwRVBR-rDo9w",
        "outputId": "cf61da5f-d825-4c0a-f9dd-5bc86dec7acc"
      },
      "execution_count": 28,
      "outputs": [
        {
          "output_type": "execute_result",
          "data": {
            "text/plain": [
              "4.2"
            ]
          },
          "metadata": {},
          "execution_count": 28
        }
      ]
    },
    {
      "cell_type": "code",
      "source": [
        "4 * 2.7"
      ],
      "metadata": {
        "colab": {
          "base_uri": "https://localhost:8080/"
        },
        "id": "mtstl185DsHV",
        "outputId": "50e4916e-2ce6-42c2-9e6f-83ac2da929c7"
      },
      "execution_count": 29,
      "outputs": [
        {
          "output_type": "execute_result",
          "data": {
            "text/plain": [
              "10.8"
            ]
          },
          "metadata": {},
          "execution_count": 29
        }
      ]
    },
    {
      "cell_type": "code",
      "source": [
        "10 / 4"
      ],
      "metadata": {
        "colab": {
          "base_uri": "https://localhost:8080/"
        },
        "id": "fOVxewOEDv3Y",
        "outputId": "2f641659-dcbf-4c01-d0cd-d32f4be1ed62"
      },
      "execution_count": 30,
      "outputs": [
        {
          "output_type": "execute_result",
          "data": {
            "text/plain": [
              "2.5"
            ]
          },
          "metadata": {},
          "execution_count": 30
        }
      ]
    },
    {
      "cell_type": "code",
      "source": [
        "10 % 3 # 나며지 연산자 integer division"
      ],
      "metadata": {
        "colab": {
          "base_uri": "https://localhost:8080/"
        },
        "id": "HsHzTiSNDOXZ",
        "outputId": "5268cff3-9fbc-4dc3-f304-8723638abda9"
      },
      "execution_count": 31,
      "outputs": [
        {
          "output_type": "execute_result",
          "data": {
            "text/plain": [
              "1"
            ]
          },
          "metadata": {},
          "execution_count": 31
        }
      ]
    },
    {
      "cell_type": "code",
      "source": [
        "10 // 3 # 몫 연산자"
      ],
      "metadata": {
        "colab": {
          "base_uri": "https://localhost:8080/"
        },
        "id": "hfaXpbFKD2Ee",
        "outputId": "2e077070-660b-4120-f610-42e40d4b8436"
      },
      "execution_count": 45,
      "outputs": [
        {
          "output_type": "execute_result",
          "data": {
            "text/plain": [
              "3"
            ]
          },
          "metadata": {},
          "execution_count": 45
        }
      ]
    },
    {
      "cell_type": "code",
      "source": [
        "3 ** 3 # 지수 연산자"
      ],
      "metadata": {
        "colab": {
          "base_uri": "https://localhost:8080/"
        },
        "id": "dJzSUAWyD6xK",
        "outputId": "b2a3a153-6a25-465c-cb5a-670cabdfc368"
      },
      "execution_count": 46,
      "outputs": [
        {
          "output_type": "execute_result",
          "data": {
            "text/plain": [
              "27"
            ]
          },
          "metadata": {},
          "execution_count": 46
        }
      ]
    },
    {
      "cell_type": "code",
      "source": [
        "2 ** 2.8 # 지수 연산자"
      ],
      "metadata": {
        "colab": {
          "base_uri": "https://localhost:8080/"
        },
        "id": "LrLfL2pIEAvU",
        "outputId": "1f4607fd-8683-468c-e355-6a7be6e5afb1"
      },
      "execution_count": 47,
      "outputs": [
        {
          "output_type": "execute_result",
          "data": {
            "text/plain": [
              "6.964404506368992"
            ]
          },
          "metadata": {},
          "execution_count": 47
        }
      ]
    },
    {
      "cell_type": "code",
      "source": [
        "3 * (4 - 2)"
      ],
      "metadata": {
        "colab": {
          "base_uri": "https://localhost:8080/"
        },
        "id": "wpM8BZD3EFIh",
        "outputId": "333c19a3-6b06-40eb-816c-7a8d0dbae0df"
      },
      "execution_count": 48,
      "outputs": [
        {
          "output_type": "execute_result",
          "data": {
            "text/plain": [
              "6"
            ]
          },
          "metadata": {},
          "execution_count": 48
        }
      ]
    },
    {
      "cell_type": "code",
      "source": [
        "(10 - 3) ** 2"
      ],
      "metadata": {
        "colab": {
          "base_uri": "https://localhost:8080/"
        },
        "id": "8wf_y6PhEJA-",
        "outputId": "09ccf104-52cf-4d13-e33d-bf8ecf88e97e"
      },
      "execution_count": 49,
      "outputs": [
        {
          "output_type": "execute_result",
          "data": {
            "text/plain": [
              "49"
            ]
          },
          "metadata": {},
          "execution_count": 49
        }
      ]
    },
    {
      "cell_type": "code",
      "source": [
        "True & True"
      ],
      "metadata": {
        "colab": {
          "base_uri": "https://localhost:8080/"
        },
        "id": "T0a1G2E0EMQG",
        "outputId": "dc1fc511-0fae-44b7-9557-91da60674863"
      },
      "execution_count": 50,
      "outputs": [
        {
          "output_type": "execute_result",
          "data": {
            "text/plain": [
              "True"
            ]
          },
          "metadata": {},
          "execution_count": 50
        }
      ]
    },
    {
      "cell_type": "code",
      "source": [
        "True and False"
      ],
      "metadata": {
        "colab": {
          "base_uri": "https://localhost:8080/"
        },
        "id": "CehSRbUoER4N",
        "outputId": "2c9eb9f0-dcf3-44ae-a8f5-f3fe84a8b98d"
      },
      "execution_count": 52,
      "outputs": [
        {
          "output_type": "execute_result",
          "data": {
            "text/plain": [
              "False"
            ]
          },
          "metadata": {},
          "execution_count": 52
        }
      ]
    },
    {
      "cell_type": "code",
      "source": [
        "True | True"
      ],
      "metadata": {
        "colab": {
          "base_uri": "https://localhost:8080/"
        },
        "id": "AuUmz8uKEXw5",
        "outputId": "01e0215a-586f-4553-f057-714676e290f5"
      },
      "execution_count": 53,
      "outputs": [
        {
          "output_type": "execute_result",
          "data": {
            "text/plain": [
              "True"
            ]
          },
          "metadata": {},
          "execution_count": 53
        }
      ]
    },
    {
      "cell_type": "code",
      "source": [
        "False or False"
      ],
      "metadata": {
        "colab": {
          "base_uri": "https://localhost:8080/"
        },
        "id": "509kaTxlEjVO",
        "outputId": "7fc5d010-6b31-4416-851c-e01382554fa3"
      },
      "execution_count": 54,
      "outputs": [
        {
          "output_type": "execute_result",
          "data": {
            "text/plain": [
              "False"
            ]
          },
          "metadata": {},
          "execution_count": 54
        }
      ]
    },
    {
      "cell_type": "code",
      "source": [
        "not True"
      ],
      "metadata": {
        "id": "VzKwQYH6EnHu"
      },
      "execution_count": null,
      "outputs": []
    },
    {
      "cell_type": "code",
      "source": [
        "not False"
      ],
      "metadata": {
        "colab": {
          "base_uri": "https://localhost:8080/"
        },
        "id": "sNnQCiOrEqXn",
        "outputId": "5b935b7f-6060-46b1-a757-d900ba509cd3"
      },
      "execution_count": 55,
      "outputs": [
        {
          "output_type": "execute_result",
          "data": {
            "text/plain": [
              "True"
            ]
          },
          "metadata": {},
          "execution_count": 55
        }
      ]
    },
    {
      "cell_type": "markdown",
      "source": [
        "## 내장 함수와 함수 호출 활용"
      ],
      "metadata": {
        "id": "WCm9xFATEU4F"
      }
    },
    {
      "cell_type": "code",
      "source": [
        "help(print)\n",
        "Help on built-in function print in module builtins:"
      ],
      "metadata": {
        "colab": {
          "base_uri": "https://localhost:8080/",
          "height": 106
        },
        "id": "ta6rIZvwE4D8",
        "outputId": "e0339e5d-4181-43a2-81e4-93491e2d8171"
      },
      "execution_count": 33,
      "outputs": [
        {
          "output_type": "error",
          "ename": "SyntaxError",
          "evalue": "invalid syntax (<ipython-input-33-694de34aa49e>, line 2)",
          "traceback": [
            "\u001b[0;36m  File \u001b[0;32m\"<ipython-input-33-694de34aa49e>\"\u001b[0;36m, line \u001b[0;32m2\u001b[0m\n\u001b[0;31m    Help on built-in function print in module builtins:\u001b[0m\n\u001b[0m         ^\u001b[0m\n\u001b[0;31mSyntaxError\u001b[0m\u001b[0;31m:\u001b[0m invalid syntax\n"
          ]
        }
      ]
    },
    {
      "cell_type": "code",
      "source": [
        "year = input(\"당신이 태어난 년도는 ?\")\n",
        "print(year)"
      ],
      "metadata": {
        "id": "iUz5_7PYFlI3"
      },
      "execution_count": null,
      "outputs": []
    },
    {
      "cell_type": "code",
      "source": [
        "type(year)\n"
      ],
      "metadata": {
        "colab": {
          "base_uri": "https://localhost:8080/",
          "height": 141
        },
        "id": "6smY-d2zFwJF",
        "outputId": "51fb3485-f37c-4d78-a59f-9ae2ff8a82f5"
      },
      "execution_count": 56,
      "outputs": [
        {
          "output_type": "error",
          "ename": "NameError",
          "evalue": "name 'year' is not defined",
          "traceback": [
            "\u001b[0;31m---------------------------------------------------------------------------\u001b[0m",
            "\u001b[0;31mNameError\u001b[0m                                 Traceback (most recent call last)",
            "\u001b[0;32m<ipython-input-56-a4dc003cbd5d>\u001b[0m in \u001b[0;36m<cell line: 1>\u001b[0;34m()\u001b[0m\n\u001b[0;32m----> 1\u001b[0;31m \u001b[0mtype\u001b[0m\u001b[0;34m(\u001b[0m\u001b[0myear\u001b[0m\u001b[0;34m)\u001b[0m\u001b[0;34m\u001b[0m\u001b[0;34m\u001b[0m\u001b[0m\n\u001b[0m",
            "\u001b[0;31mNameError\u001b[0m: name 'year' is not defined"
          ]
        }
      ]
    },
    {
      "cell_type": "code",
      "source": [
        "age = 2026 - year"
      ],
      "metadata": {
        "colab": {
          "base_uri": "https://localhost:8080/",
          "height": 141
        },
        "id": "xdvXFLwHF2N5",
        "outputId": "2c74f425-7abb-4fb8-f29e-78a6d827f400"
      },
      "execution_count": 58,
      "outputs": [
        {
          "output_type": "error",
          "ename": "NameError",
          "evalue": "name 'year' is not defined",
          "traceback": [
            "\u001b[0;31m---------------------------------------------------------------------------\u001b[0m",
            "\u001b[0;31mNameError\u001b[0m                                 Traceback (most recent call last)",
            "\u001b[0;32m<ipython-input-58-9db86d218b17>\u001b[0m in \u001b[0;36m<cell line: 1>\u001b[0;34m()\u001b[0m\n\u001b[0;32m----> 1\u001b[0;31m \u001b[0mage\u001b[0m \u001b[0;34m=\u001b[0m \u001b[0;36m2026\u001b[0m \u001b[0;34m-\u001b[0m \u001b[0myear\u001b[0m\u001b[0;34m\u001b[0m\u001b[0;34m\u001b[0m\u001b[0m\n\u001b[0m",
            "\u001b[0;31mNameError\u001b[0m: name 'year' is not defined"
          ]
        }
      ]
    },
    {
      "cell_type": "code",
      "source": [
        "age = 2024 - int(year)\n",
        "print('나이', age)"
      ],
      "metadata": {
        "id": "BeLBjNhcF5NT"
      },
      "execution_count": null,
      "outputs": []
    },
    {
      "cell_type": "code",
      "source": [
        "year = int(input('당신이 태어난 년도는 ?'))"
      ],
      "metadata": {
        "id": "vTEkOwCmGH6m"
      },
      "execution_count": null,
      "outputs": []
    },
    {
      "cell_type": "code",
      "source": [
        "print('나이',2026 - year)"
      ],
      "metadata": {
        "id": "OsU86QyzGOz7"
      },
      "execution_count": null,
      "outputs": []
    },
    {
      "cell_type": "code",
      "source": [
        "abs(-3)"
      ],
      "metadata": {
        "id": "TxPBSNZoGU_x"
      },
      "execution_count": null,
      "outputs": []
    },
    {
      "cell_type": "code",
      "source": [
        "min(10, 20, 1)"
      ],
      "metadata": {
        "id": "QQOqxOM8GXs3"
      },
      "execution_count": null,
      "outputs": []
    },
    {
      "cell_type": "code",
      "source": [
        "max(10, 100,1)"
      ],
      "metadata": {
        "id": "zp3zw74OGaUZ"
      },
      "execution_count": null,
      "outputs": []
    },
    {
      "cell_type": "code",
      "source": [
        "min([10, 11, 112])"
      ],
      "metadata": {
        "id": "zjhogs9YGc6_"
      },
      "execution_count": null,
      "outputs": []
    },
    {
      "cell_type": "code",
      "source": [
        "max([10, 11, 12])"
      ],
      "metadata": {
        "id": "SXd0NzkEGiKT"
      },
      "execution_count": null,
      "outputs": []
    },
    {
      "cell_type": "code",
      "source": [
        "round(3.1415)"
      ],
      "metadata": {
        "id": "f-Eat18IGls2"
      },
      "execution_count": null,
      "outputs": []
    },
    {
      "cell_type": "code",
      "source": [
        "round(3.1415, 3)"
      ],
      "metadata": {
        "id": "Vr7ueYU1GpJO"
      },
      "execution_count": null,
      "outputs": []
    },
    {
      "cell_type": "markdown",
      "source": [
        "### 내장 모듈 math 활용"
      ],
      "metadata": {
        "id": "wyGsXGbvGssk"
      }
    },
    {
      "cell_type": "code",
      "source": [
        "import math as m\n",
        "m.pi, m.e"
      ],
      "metadata": {
        "id": "TJSAxYOPGyeY"
      },
      "execution_count": null,
      "outputs": []
    },
    {
      "cell_type": "code",
      "source": [
        "m.sqrt(4)"
      ],
      "metadata": {
        "id": "ZbkDFYX3G3wv"
      },
      "execution_count": null,
      "outputs": []
    },
    {
      "cell_type": "code",
      "source": [
        "m.ceil(3.7)\n"
      ],
      "metadata": {
        "id": "4eRFdgkqG63-"
      },
      "execution_count": null,
      "outputs": []
    },
    {
      "cell_type": "code",
      "source": [
        "m.ceil(3.1)\n"
      ],
      "metadata": {
        "id": "r1Wk_Z2IHD0G"
      },
      "execution_count": null,
      "outputs": []
    },
    {
      "cell_type": "code",
      "source": [
        "m.ceil(-3.7)\n"
      ],
      "metadata": {
        "id": "gr7PdmqSHFze"
      },
      "execution_count": null,
      "outputs": []
    },
    {
      "cell_type": "code",
      "source": [
        "m.ceil(-3.1)"
      ],
      "metadata": {
        "id": "VdJyygQfHJPq"
      },
      "execution_count": null,
      "outputs": []
    },
    {
      "cell_type": "code",
      "source": [
        "m.floor(3.7)"
      ],
      "metadata": {
        "id": "2wtNO9UMHLxI"
      },
      "execution_count": null,
      "outputs": []
    },
    {
      "cell_type": "code",
      "source": [
        "m.floor(3.1)"
      ],
      "metadata": {
        "id": "-OAF_9nvHQUb"
      },
      "execution_count": null,
      "outputs": []
    },
    {
      "cell_type": "code",
      "source": [
        "m.floor(-3.7)"
      ],
      "metadata": {
        "id": "8qImBnk4HRGU"
      },
      "execution_count": null,
      "outputs": []
    },
    {
      "cell_type": "code",
      "source": [
        "m.floor(3.1)"
      ],
      "metadata": {
        "id": "0n0j4gFnHRpl"
      },
      "execution_count": null,
      "outputs": []
    },
    {
      "cell_type": "code",
      "source": [
        "m.trunc(3.1415)"
      ],
      "metadata": {
        "id": "WobzdV4EHVg8"
      },
      "execution_count": null,
      "outputs": []
    },
    {
      "cell_type": "markdown",
      "source": [
        "### 토이 데이터의 데이터 프레임 활용"
      ],
      "metadata": {
        "id": "dN2vHFfDHdnE"
      }
    },
    {
      "cell_type": "code",
      "source": [
        "from pydataset import date\n",
        "\n",
        "all_data = data()\n",
        "all_data"
      ],
      "metadata": {
        "id": "9WIO703fHZVo"
      },
      "execution_count": null,
      "outputs": []
    },
    {
      "cell_type": "code",
      "source": [
        "cars = data('cars')\n",
        "cars"
      ],
      "metadata": {
        "id": "0WODxdhRHxVO"
      },
      "execution_count": null,
      "outputs": []
    },
    {
      "cell_type": "code",
      "source": [
        "import matplotilb.pyplot as plt\n",
        "\n",
        "plt.scatter(x = cars.speed, y = cars.dlst)\n",
        "plt.show()"
      ],
      "metadata": {
        "id": "xnv98F_fH17i"
      },
      "execution_count": null,
      "outputs": []
    },
    {
      "cell_type": "code",
      "source": [
        "import matplotlib.pyplot as plt\n",
        "import seaborn as sns\n",
        "\n",
        "sns.scatterplot(x = cars.speed, y = cars.dlst)\n",
        "plt.show()"
      ],
      "metadata": {
        "id": "Yyi-IVXwIFoh"
      },
      "execution_count": null,
      "outputs": []
    },
    {
      "cell_type": "code",
      "source": [
        "mpg.info()"
      ],
      "metadata": {
        "id": "-cWSWEYwIhtY"
      },
      "execution_count": null,
      "outputs": []
    }
  ]
}