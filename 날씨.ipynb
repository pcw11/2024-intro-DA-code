{
  "nbformat": 4,
  "nbformat_minor": 0,
  "metadata": {
    "colab": {
      "provenance": [],
      "authorship_tag": "ABX9TyNAwcKsVmn6gc+0rVKveT52",
      "include_colab_link": true
    },
    "kernelspec": {
      "name": "python3",
      "display_name": "Python 3"
    },
    "language_info": {
      "name": "python"
    }
  },
  "cells": [
    {
      "cell_type": "markdown",
      "metadata": {
        "id": "view-in-github",
        "colab_type": "text"
      },
      "source": [
        "<a href=\"https://colab.research.google.com/github/pcw11/2024-intro-DA-code/blob/main/%EB%82%A0%EC%94%A8.ipynb\" target=\"_parent\"><img src=\"https://colab.research.google.com/assets/colab-badge.svg\" alt=\"Open In Colab\"/></a>"
      ]
    },
    {
      "cell_type": "code",
      "execution_count": 1,
      "metadata": {
        "colab": {
          "base_uri": "https://localhost:8080/"
        },
        "id": "JB2g5SPKGYFh",
        "outputId": "26220a7d-65fc-42da-cb10-fa1d16604384"
      },
      "outputs": [
        {
          "output_type": "stream",
          "name": "stdout",
          "text": [
            "The highest temperature was in 2018 April with 25.6°C.\n"
          ]
        }
      ],
      "source": [
        "# 기온 데이터를 딕셔너리로 작성 (임의의 데이터)\n",
        "temperature_data = {\n",
        "    2004: [10.5, 12.3, 15.2, 20.1, 25.3, 30.1, 32.0, 29.9, 25.5, 20.2, 15.1, 10.7],  # 12달의 평균 기온\n",
        "    2005: [9.7, 11.2, 14.9, 18.7, 24.0, 29.2, 31.3, 30.0, 26.1, 21.7, 16.2, 11.0],\n",
        "    # ... (생략된 데이터)\n",
        "    2018: [11.0, 13.2, 16.5, 25.6, 27.9, 33.1, 34.0, 30.5, 26.0, 21.0, 15.8, 12.3],\n",
        "    # ... (생략된 데이터)\n",
        "    2024: [10.1, 12.5, 15.8, 21.5, 26.9, 32.0, 33.5, 31.0, 27.0, 22.0, 17.5, 12.8],\n",
        "}\n",
        "\n",
        "# 2018년 4월 기온이 가장 높다는 정보 표시\n",
        "highest_temp_year = 2018\n",
        "highest_temp_month = 4\n",
        "highest_temp = temperature_data[highest_temp_year][highest_temp_month - 1]\n",
        "\n",
        "print(f\"The highest temperature was in {highest_temp_year} April with {highest_temp}°C.\")\n"
      ]
    }
  ]
}